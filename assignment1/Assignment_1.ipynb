{
 "cells": [
  {
   "cell_type": "code",
   "execution_count": 1,
   "id": "bcdac674",
   "metadata": {},
   "outputs": [],
   "source": [
    "import random\n",
    "\n",
    "def sample(file_name,K_size):\n",
    "   \n",
    "    K = []\n",
    "    print(K)\n",
    "    with open( file_name, 'r') as file:\n",
    "        i = 0\n",
    "        for line in file:\n",
    "            if i < K_size:\n",
    "                K.append(line)\n",
    "               \n",
    "            else:\n",
    "                rng = random.randint(0, i)\n",
    "                if rng < K_size:\n",
    "                    K[rng] = line.strip()\n",
    "            i += 1\n",
    "    return K\n",
    "   "
   ]
  },
  {
   "cell_type": "code",
   "execution_count": 2,
   "id": "2fe86a30",
   "metadata": {},
   "outputs": [
    {
     "name": "stdout",
     "output_type": "stream",
     "text": [
      "[]\n",
      "['Ed Davis', 'Brandon Roy', 'CJ McCollum']\n"
     ]
    }
   ],
   "source": [
    "K=sample(r\"./input.txt\",3)\n",
    "print(K)"
   ]
  },
  {
   "cell_type": "code",
   "execution_count": null,
   "id": "5d4a54ad",
   "metadata": {},
   "outputs": [],
   "source": []
  },
  {
   "cell_type": "code",
   "execution_count": null,
   "id": "fdba207b",
   "metadata": {},
   "outputs": [],
   "source": []
  }
 ],
 "metadata": {
  "kernelspec": {
   "display_name": "Python 3 (ipykernel)",
   "language": "python",
   "name": "python3"
  },
  "language_info": {
   "codemirror_mode": {
    "name": "ipython",
    "version": 3
   },
   "file_extension": ".py",
   "mimetype": "text/x-python",
   "name": "python",
   "nbconvert_exporter": "python",
   "pygments_lexer": "ipython3",
   "version": "3.11.5"
  }
 },
 "nbformat": 4,
 "nbformat_minor": 5
}
